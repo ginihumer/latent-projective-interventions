{
 "cells": [
  {
   "cell_type": "markdown",
   "metadata": {},
   "source": [
    "### Custom embedder for parametric UMAP. \n",
    "This notebook shows you how to run a UMAP projection with a custom embedder. "
   ]
  },
  {
   "cell_type": "markdown",
   "metadata": {},
   "source": [
    "### load data"
   ]
  },
  {
   "cell_type": "code",
   "execution_count": 4,
   "metadata": {
    "ExecuteTime": {
     "end_time": "2020-08-17T01:20:59.755879Z",
     "start_time": "2020-08-17T01:20:59.418719Z"
    }
   },
   "outputs": [],
   "source": [
    "from tensorflow.keras.datasets import mnist\n",
    "(train_images, Y_train), (test_images, Y_test) = mnist.load_data()\n",
    "train_images = train_images.reshape((train_images.shape[0], -1))/255.\n",
    "test_images = test_images.reshape((test_images.shape[0], -1))/255."
   ]
  },
  {
   "cell_type": "markdown",
   "metadata": {},
   "source": [
    "### define the encoder network"
   ]
  },
  {
   "cell_type": "code",
   "execution_count": 6,
   "metadata": {
    "ExecuteTime": {
     "end_time": "2020-08-17T01:21:00.491443Z",
     "start_time": "2020-08-17T01:20:59.798145Z"
    }
   },
   "outputs": [
    {
     "name": "stdout",
     "output_type": "stream",
     "text": [
      "Model: \"sequential\"\n",
      "_________________________________________________________________\n",
      "Layer (type)                 Output Shape              Param #   \n",
      "=================================================================\n",
      "conv2d (Conv2D)              (None, 14, 14, 64)        640       \n",
      "_________________________________________________________________\n",
      "conv2d_1 (Conv2D)            (None, 7, 7, 128)         73856     \n",
      "_________________________________________________________________\n",
      "flatten (Flatten)            (None, 6272)              0         \n",
      "_________________________________________________________________\n",
      "dense (Dense)                (None, 512)               3211776   \n",
      "_________________________________________________________________\n",
      "dense_1 (Dense)              (None, 512)               262656    \n",
      "_________________________________________________________________\n",
      "dense_2 (Dense)              (None, 2)                 1026      \n",
      "=================================================================\n",
      "Total params: 3,549,954\n",
      "Trainable params: 3,549,954\n",
      "Non-trainable params: 0\n",
      "_________________________________________________________________\n"
     ]
    }
   ],
   "source": [
    "dims = (28,28, 1)\n",
    "n_components = 2\n",
    "encoder = tf.keras.Sequential([\n",
    "    tf.keras.layers.InputLayer(input_shape=dims),\n",
    "    tf.keras.layers.Conv2D(\n",
    "        filters=64, kernel_size=3, strides=(2, 2), activation=\"relu\", padding=\"same\"\n",
    "    ),\n",
    "    tf.keras.layers.Conv2D(\n",
    "        filters=128, kernel_size=3, strides=(2, 2), activation=\"relu\", padding=\"same\"\n",
    "    ),\n",
    "    tf.keras.layers.Flatten(),\n",
    "    tf.keras.layers.Dense(units=512, activation=\"relu\"),\n",
    "    tf.keras.layers.Dense(units=512, activation=\"relu\"),\n",
    "    tf.keras.layers.Dense(units=n_components),\n",
    "])\n",
    "encoder.summary()"
   ]
  },
  {
   "cell_type": "markdown",
   "metadata": {
    "ExecuteTime": {
     "end_time": "2020-08-16T22:12:46.790121Z",
     "start_time": "2020-08-16T22:12:46.759185Z"
    }
   },
   "source": [
    "### create parametric umap model"
   ]
  },
  {
   "cell_type": "code",
   "execution_count": 7,
   "metadata": {
    "ExecuteTime": {
     "end_time": "2020-08-17T01:21:05.017795Z",
     "start_time": "2020-08-17T01:21:00.493333Z"
    }
   },
   "outputs": [],
   "source": [
    "from umap.parametric_umap import ParametricUMAP"
   ]
  },
  {
   "cell_type": "code",
   "execution_count": 8,
   "metadata": {
    "ExecuteTime": {
     "end_time": "2020-08-17T01:21:05.082683Z",
     "start_time": "2020-08-17T01:21:05.019951Z"
    }
   },
   "outputs": [],
   "source": [
    "embedder = ParametricUMAP(encoder=encoder, dims=dims, n_training_epochs=5, verbose=True)"
   ]
  },
  {
   "cell_type": "code",
   "execution_count": 9,
   "metadata": {
    "ExecuteTime": {
     "end_time": "2020-08-17T01:31:10.240930Z",
     "start_time": "2020-08-17T01:21:05.084019Z"
    }
   },
   "outputs": [
    {
     "name": "stdout",
     "output_type": "stream",
     "text": [
      "ParametricUMAP(dims=(28, 28, 1),\n",
      "               encoder=<tensorflow.python.keras.engine.sequential.Sequential object at 0x7f9b902396a0>,\n",
      "               n_training_epochs=5,\n",
      "               optimizer=<tensorflow.python.keras.optimizer_v2.adam.Adam object at 0x7f9968e0ef60>)\n",
      "Construct fuzzy simplicial set\n",
      "Sun Aug 16 18:21:05 2020 Finding Nearest Neighbors\n",
      "Sun Aug 16 18:21:05 2020 Building RP forest with 17 trees\n",
      "Sun Aug 16 18:21:07 2020 parallel NN descent for 16 iterations\n",
      "\t 0  /  16\n",
      "\t 1  /  16\n",
      "\t 2  /  16\n",
      "\t 3  /  16\n",
      "\t 4  /  16\n",
      "Sun Aug 16 18:21:17 2020 Finished Nearest Neighbor Search\n",
      "Sun Aug 16 18:21:20 2020 Construct embedding\n",
      "Epoch 1/50\n",
      "  1/724 [..............................] - ETA: 0s - loss: 5.5447"
     ]
    },
    {
     "name": "stderr",
     "output_type": "stream",
     "text": [
      "WARNING: Logging before flag parsing goes to stderr.\n",
      "W0816 18:21:32.472703 140309101131584 callbacks.py:328] Callbacks method `on_train_batch_end` is slow compared to the batch time (batch time: 0.0057s vs `on_train_batch_end` time: 0.0123s). Check your callbacks.\n"
     ]
    },
    {
     "name": "stdout",
     "output_type": "stream",
     "text": [
      "724/724 [==============================] - 15s 21ms/step - loss: 0.2091\n",
      "Epoch 2/50\n",
      "724/724 [==============================] - 16s 22ms/step - loss: 0.1501\n",
      "Epoch 3/50\n",
      "724/724 [==============================] - 14s 20ms/step - loss: 0.1409\n",
      "Epoch 4/50\n",
      "724/724 [==============================] - 11s 16ms/step - loss: 0.1332\n",
      "Epoch 5/50\n",
      "724/724 [==============================] - 12s 16ms/step - loss: 0.1292\n",
      "Epoch 6/50\n",
      "724/724 [==============================] - 11s 16ms/step - loss: 0.1267\n",
      "Epoch 7/50\n",
      "724/724 [==============================] - 12s 16ms/step - loss: 0.1241\n",
      "Epoch 8/50\n",
      "724/724 [==============================] - 11s 15ms/step - loss: 0.1218\n",
      "Epoch 9/50\n",
      "724/724 [==============================] - 12s 16ms/step - loss: 0.1206\n",
      "Epoch 10/50\n",
      "724/724 [==============================] - 12s 16ms/step - loss: 0.1197\n",
      "Epoch 11/50\n",
      "724/724 [==============================] - 11s 16ms/step - loss: 0.1187\n",
      "Epoch 12/50\n",
      "724/724 [==============================] - 11s 16ms/step - loss: 0.1179\n",
      "Epoch 13/50\n",
      "724/724 [==============================] - 12s 16ms/step - loss: 0.1170\n",
      "Epoch 14/50\n",
      "724/724 [==============================] - 12s 16ms/step - loss: 0.1164\n",
      "Epoch 15/50\n",
      "724/724 [==============================] - 11s 16ms/step - loss: 0.1156\n",
      "Epoch 16/50\n",
      "724/724 [==============================] - 11s 16ms/step - loss: 0.1153\n",
      "Epoch 17/50\n",
      "724/724 [==============================] - 11s 16ms/step - loss: 0.1149\n",
      "Epoch 18/50\n",
      "724/724 [==============================] - 11s 16ms/step - loss: 0.1146\n",
      "Epoch 19/50\n",
      "724/724 [==============================] - 11s 16ms/step - loss: 0.1138\n",
      "Epoch 20/50\n",
      "724/724 [==============================] - 11s 16ms/step - loss: 0.1132\n",
      "Epoch 21/50\n",
      "724/724 [==============================] - 11s 16ms/step - loss: 0.1134\n",
      "Epoch 22/50\n",
      "724/724 [==============================] - 11s 16ms/step - loss: 0.1130\n",
      "Epoch 23/50\n",
      "724/724 [==============================] - 11s 15ms/step - loss: 0.1131\n",
      "Epoch 24/50\n",
      "724/724 [==============================] - 11s 16ms/step - loss: 0.1127\n",
      "Epoch 25/50\n",
      "724/724 [==============================] - 11s 15ms/step - loss: 0.1121\n",
      "Epoch 26/50\n",
      "724/724 [==============================] - 11s 15ms/step - loss: 0.1121\n",
      "Epoch 27/50\n",
      "724/724 [==============================] - 11s 15ms/step - loss: 0.1116\n",
      "Epoch 28/50\n",
      "724/724 [==============================] - 11s 15ms/step - loss: 0.1118\n",
      "Epoch 29/50\n",
      "724/724 [==============================] - 11s 16ms/step - loss: 0.1114\n",
      "Epoch 30/50\n",
      "724/724 [==============================] - 11s 15ms/step - loss: 0.1113\n",
      "Epoch 31/50\n",
      "724/724 [==============================] - 11s 15ms/step - loss: 0.1112\n",
      "Epoch 32/50\n",
      "724/724 [==============================] - 11s 15ms/step - loss: 0.1107\n",
      "Epoch 33/50\n",
      "724/724 [==============================] - 11s 15ms/step - loss: 0.1112\n",
      "Epoch 34/50\n",
      "724/724 [==============================] - 11s 15ms/step - loss: 0.1107\n",
      "Epoch 35/50\n",
      "724/724 [==============================] - 11s 15ms/step - loss: 0.1105\n",
      "Epoch 36/50\n",
      "724/724 [==============================] - 11s 15ms/step - loss: 0.1106\n",
      "Epoch 37/50\n",
      "724/724 [==============================] - 11s 15ms/step - loss: 0.1101\n",
      "Epoch 38/50\n",
      "724/724 [==============================] - 11s 15ms/step - loss: 0.1103\n",
      "Epoch 39/50\n",
      "724/724 [==============================] - 11s 15ms/step - loss: 0.1100\n",
      "Epoch 40/50\n",
      "724/724 [==============================] - 11s 15ms/step - loss: 0.1104\n",
      "Epoch 41/50\n",
      "724/724 [==============================] - 11s 15ms/step - loss: 0.1101\n",
      "Epoch 42/50\n",
      "724/724 [==============================] - 11s 15ms/step - loss: 0.1093\n",
      "Epoch 43/50\n",
      "724/724 [==============================] - 11s 15ms/step - loss: 0.1099\n",
      "Epoch 44/50\n",
      "724/724 [==============================] - 11s 15ms/step - loss: 0.1098\n",
      "Epoch 45/50\n",
      "724/724 [==============================] - 11s 15ms/step - loss: 0.1095\n",
      "Epoch 46/50\n",
      "724/724 [==============================] - 11s 15ms/step - loss: 0.1094\n",
      "Epoch 47/50\n",
      "724/724 [==============================] - 11s 15ms/step - loss: 0.1094\n",
      "Epoch 48/50\n",
      "724/724 [==============================] - 11s 15ms/step - loss: 0.1093\n",
      "Epoch 49/50\n",
      "724/724 [==============================] - 11s 15ms/step - loss: 0.1093\n",
      "Epoch 50/50\n",
      "724/724 [==============================] - 11s 15ms/step - loss: 0.1095\n",
      "1875/1875 [==============================] - 2s 909us/step\n",
      "Sun Aug 16 18:31:09 2020 Finished embedding\n"
     ]
    }
   ],
   "source": [
    "embedding = embedder.fit_transform(train_images)"
   ]
  },
  {
   "cell_type": "markdown",
   "metadata": {},
   "source": [
    "### plot results"
   ]
  },
  {
   "cell_type": "code",
   "execution_count": 10,
   "metadata": {
    "ExecuteTime": {
     "end_time": "2020-08-17T01:31:10.820863Z",
     "start_time": "2020-08-17T01:31:10.242898Z"
    }
   },
   "outputs": [],
   "source": [
    "embedding = embedder.embedding_"
   ]
  },
  {
   "cell_type": "code",
   "execution_count": 11,
   "metadata": {
    "ExecuteTime": {
     "end_time": "2020-08-17T01:31:10.989935Z",
     "start_time": "2020-08-17T01:31:10.823011Z"
    }
   },
   "outputs": [],
   "source": [
    "import matplotlib.pyplot as plt"
   ]
  },
  {
   "cell_type": "code",
   "execution_count": 12,
   "metadata": {
    "ExecuteTime": {
     "end_time": "2020-08-17T01:31:12.693871Z",
     "start_time": "2020-08-17T01:31:10.991836Z"
    }
   },
   "outputs": [
    {
     "data": {
      "image/png": "[encoded data removed]",
      "text/plain": [
       "<Figure size 576x576 with 2 Axes>"
      ]
     },
     "metadata": {
      "needs_background": "light"
     },
     "output_type": "display_data"
    }
   ],
   "source": [
    "fig, ax = plt.subplots( figsize=(8, 8))\n",
    "sc = ax.scatter(\n",
    "    embedding[:, 0],\n",
    "    embedding[:, 1],\n",
    "    c=Y_train.astype(int),\n",
    "    cmap=\"tab10\",\n",
    "    s=0.1,\n",
    "    alpha=0.5,\n",
    "    rasterized=True,\n",
    ")\n",
    "ax.axis('equal')\n",
    "ax.set_title(\"UMAP in Tensorflow embedding\", fontsize=20)\n",
    "plt.colorbar(sc, ax=ax);"
   ]
  },
  {
   "cell_type": "markdown",
   "metadata": {},
   "source": [
    "### plotting loss"
   ]
  },
  {
   "cell_type": "code",
   "execution_count": 14,
   "metadata": {
    "ExecuteTime": {
     "end_time": "2020-08-17T05:42:07.442028Z",
     "start_time": "2020-08-17T05:42:07.398398Z"
    }
   },
   "outputs": [
    {
     "data": {
      "text/plain": [
       "dict_keys(['loss'])"
      ]
     },
     "execution_count": 14,
     "metadata": {},
     "output_type": "execute_result"
    }
   ],
   "source": [
    "embedder._history.keys()"
   ]
  },
  {
   "cell_type": "code",
   "execution_count": 17,
   "metadata": {
    "ExecuteTime": {
     "end_time": "2020-08-17T05:43:19.682137Z",
     "start_time": "2020-08-17T05:43:19.546647Z"
    }
   },
   "outputs": [
    {
     "data": {
      "text/plain": [
       "Text(0.5, 0, 'Epoch')"
      ]
     },
     "execution_count": 17,
     "metadata": {},
     "output_type": "execute_result"
    },
    {
     "data": {
      "image/png": "[encoded data removed]",
      "text/plain": [
       "<Figure size 432x288 with 1 Axes>"
      ]
     },
     "metadata": {
      "needs_background": "light"
     },
     "output_type": "display_data"
    }
   ],
   "source": [
    "fig, ax = plt.subplots()\n",
    "ax.plot(embedder._history['loss'])\n",
    "ax.set_ylabel('Cross Entropy')\n",
    "ax.set_xlabel('Epoch')"
   ]
  },
  {
   "cell_type": "code",
   "execution_count": null,
   "metadata": {},
   "outputs": [],
   "source": []
  }
 ],
 "metadata": {
  "kernelspec": {
   "display_name": "Python 3",
   "language": "python",
   "name": "python3"
  },
  "language_info": {
   "codemirror_mode": {
    "name": "ipython",
    "version": 3
   },
   "file_extension": ".py",
   "mimetype": "text/x-python",
   "name": "python",
   "nbconvert_exporter": "python",
   "pygments_lexer": "ipython3",
   "version": "3.6.7"
  }
 },
 "nbformat": 4,
 "nbformat_minor": 2
}
