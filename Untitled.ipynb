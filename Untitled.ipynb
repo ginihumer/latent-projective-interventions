{
 "cells": [
  {
   "cell_type": "code",
   "execution_count": 1,
   "metadata": {},
   "outputs": [],
   "source": [
    "from fit_intervention import Latent_Interventions\n",
    "import fit_intervention\n",
    "import pathlib\n",
    "import tensorflow as tf\n",
    "import functions\n",
    "import tensorflow.keras.layers as nn\n",
    "from umap.parametric_umap import ParametricUMAP, load_ParametricUMAP"
   ]
  },
  {
   "cell_type": "code",
   "execution_count": 32,
   "metadata": {},
   "outputs": [],
   "source": [
    "path = \"D:/ICG/Experiments/%s/test\""
   ]
  },
  {
   "cell_type": "code",
   "execution_count": 3,
   "metadata": {},
   "outputs": [],
   "source": [
    "X_train, y_train, X_test, y_test = functions.get_data(\"cifar10\", path)"
   ]
  },
  {
   "cell_type": "code",
   "execution_count": 10,
   "metadata": {},
   "outputs": [],
   "source": [
    "# import os\n",
    "# os.makedirs(path)"
   ]
  },
  {
   "cell_type": "code",
   "execution_count": 5,
   "metadata": {},
   "outputs": [],
   "source": [
    "optim = tf.keras.optimizers.Adam()"
   ]
  },
  {
   "cell_type": "code",
   "execution_count": 6,
   "metadata": {},
   "outputs": [],
   "source": [
    "classifier_model = functions.get_model(\"cifar10\", optim=optim)"
   ]
  },
  {
   "cell_type": "code",
   "execution_count": 7,
   "metadata": {},
   "outputs": [
    {
     "name": "stdout",
     "output_type": "stream",
     "text": [
      "Train on 50000 samples\n",
      "Epoch 1/5\n",
      "50000/50000 [==============================] - 8s 166us/sample - loss: 1.8352 - accuracy: 0.4174\n",
      "Epoch 2/5\n",
      "50000/50000 [==============================] - 6s 120us/sample - loss: 1.2199 - accuracy: 0.5691\n",
      "Epoch 3/5\n",
      "50000/50000 [==============================] - 6s 120us/sample - loss: 1.0627 - accuracy: 0.6275\n",
      "Epoch 4/5\n",
      "50000/50000 [==============================] - 6s 122us/sample - loss: 0.9610 - accuracy: 0.6658\n",
      "Epoch 5/5\n",
      "50000/50000 [==============================] - 6s 124us/sample - loss: 0.8818 - accuracy: 0.6927\n"
     ]
    }
   ],
   "source": [
    "history = classifier_model.fit(\n",
    "            X_train,\n",
    "            y_train,\n",
    "            batch_size=64,\n",
    "            epochs=5,\n",
    "            shuffle=True,\n",
    "            verbose=1\n",
    "        )"
   ]
  },
  {
   "cell_type": "code",
   "execution_count": 8,
   "metadata": {},
   "outputs": [
    {
     "data": {
      "text/plain": [
       "{'loss': [1.8351757162475586,\n",
       "  1.2199492572021484,\n",
       "  1.0626703799819945,\n",
       "  0.9609999384307861,\n",
       "  0.8817546060943604],\n",
       " 'accuracy': [0.4174, 0.5691, 0.6275, 0.66578, 0.69266]}"
      ]
     },
     "execution_count": 8,
     "metadata": {},
     "output_type": "execute_result"
    }
   ],
   "source": [
    "history.history"
   ]
  },
  {
   "cell_type": "code",
   "execution_count": 11,
   "metadata": {},
   "outputs": [],
   "source": [
    "classifier_model.save(\"%s/classifiermodel-weights-before.h5\"%path)"
   ]
  },
  {
   "cell_type": "code",
   "execution_count": 12,
   "metadata": {},
   "outputs": [],
   "source": [
    "classifier_model = functions.get_model(\"cifar10\", optim=tf.keras.optimizers.Adam())\n",
    "classifier_model.load_weights(\"%s/classifiermodel-weights-before.h5\"%path)"
   ]
  },
  {
   "cell_type": "code",
   "execution_count": 13,
   "metadata": {},
   "outputs": [],
   "source": [
    "embedding_optim = tf.keras.optimizers.Adam()\n",
    "\n",
    "# get outputs from a certain layer\n",
    "sub_model = tf.keras.Model(inputs=classifier_model.inputs, outputs=classifier_model.get_layer(\"classifier\").output)\n",
    "\n",
    "#print(self.X_train)\n",
    "logits_train = sub_model.predict(X_train)\n",
    "\n",
    "logits_train = tf.reshape(logits_train, [len(logits_train), -1])"
   ]
  },
  {
   "cell_type": "code",
   "execution_count": 14,
   "metadata": {
    "scrolled": true
   },
   "outputs": [
    {
     "name": "stdout",
     "output_type": "stream",
     "text": [
      "ParametricUMAP(batch_size=500, loss_report_frequency=1, n_training_epochs=2,\n",
      "               optimizer=<tensorflow.python.keras.optimizer_v2.adam.Adam object at 0x000001C599A1D7C8>)\n",
      "Construct fuzzy simplicial set\n",
      "Thu Oct 29 10:41:32 2020 Finding Nearest Neighbors\n",
      "Thu Oct 29 10:41:32 2020 Building RP forest with 8 trees\n",
      "Thu Oct 29 10:41:34 2020 NN descent for 12 iterations\n",
      "\t 1  /  12\n",
      "\t 2  /  12\n",
      "\t 3  /  12\n",
      "\tStopping threshold met -- exiting after 3 iterations\n",
      "Thu Oct 29 10:41:49 2020 Finished Nearest Neighbor Search\n",
      "Thu Oct 29 10:41:51 2020 Construct embedding\n"
     ]
    },
    {
     "name": "stderr",
     "output_type": "stream",
     "text": [
      "Embeddings/pumap\\umap\\parametric_umap.py:271: UserWarning: Data should be scaled to the range 0-1 for cross-entropy reconstruction loss.\n",
      "  \"Data should be scaled to the range 0-1 for cross-entropy reconstruction loss.\"\n"
     ]
    },
    {
     "name": "stdout",
     "output_type": "stream",
     "text": [
      "WARNING:tensorflow:AutoGraph could not transform <function umap_loss.<locals>.loss at 0x000001C58037F798> and will run it as-is.\n",
      "Please report this to the TensorFlow team. When filing the bug, set the verbosity to 10 (on Linux, `export AUTOGRAPH_VERBOSITY=10`) and attach the full output.\n",
      "Cause: Cell is empty\n",
      "WARNING: AutoGraph could not transform <function umap_loss.<locals>.loss at 0x000001C58037F798> and will run it as-is.\n",
      "Please report this to the TensorFlow team. When filing the bug, set the verbosity to 10 (on Linux, `export AUTOGRAPH_VERBOSITY=10`) and attach the full output.\n",
      "Cause: Cell is empty\n",
      "Train for 1096 steps\n",
      "Epoch 1/2\n",
      "1096/1096 [==============================] - 8s 8ms/step - loss: 0.2146\n",
      "Epoch 2/2\n",
      "1096/1096 [==============================] - 8s 7ms/step - loss: 0.2048\n",
      "4167/4167 [==============================] - 0s 37us/sample\n",
      "Thu Oct 29 10:42:08 2020 Finished embedding\n"
     ]
    },
    {
     "data": {
      "text/plain": [
       "ParametricUMAP(batch_size=500, dims=[10],\n",
       "               encoder=<tensorflow.python.keras.engine.sequential.Sequential object at 0x000001C5806DE148>,\n",
       "               loss_report_frequency=1, n_training_epochs=2,\n",
       "               optimizer=<tensorflow.python.keras.optimizer_v2.adam.Adam object at 0x000001C599A1D7C8>)"
      ]
     },
     "execution_count": 14,
     "metadata": {},
     "output_type": "execute_result"
    }
   ],
   "source": [
    "embedder_model = functions.get_model(\"umap\", verbose=1, optim=embedding_optim, batch_size=500, epochs=2, config={})\n",
    "embedder_model.fit(logits_train[::12].numpy())"
   ]
  },
  {
   "cell_type": "code",
   "execution_count": 15,
   "metadata": {},
   "outputs": [
    {
     "name": "stdout",
     "output_type": "stream",
     "text": [
      "D:/ICG/Experiments/%s/test/embeddermodel\\encoder_model.h5\n",
      "Keras encoder model saved to D:/ICG/Experiments/%s/test/embeddermodel\\encoder_model.h5\n",
      "Keras full model saved to D:/ICG/Experiments/%s/test/embeddermodel\\parametric_model.h5\n",
      "Thu Oct 29 10:42:13 2020 Worst tree score: 0.85601152\n",
      "Thu Oct 29 10:42:13 2020 Mean tree score: 0.86684065\n",
      "Thu Oct 29 10:42:13 2020 Best tree score: 0.87712983\n",
      "Thu Oct 29 10:42:17 2020 Forward diversification reduced edges from 62505 to 24112\n",
      "Thu Oct 29 10:42:21 2020 Reverse diversification reduced edges from 24112 to 24112\n",
      "Thu Oct 29 10:42:23 2020 Degree pruning reduced edges from 25040 to 25040\n",
      "Thu Oct 29 10:42:23 2020 Resorting data and graph based on tree order\n",
      "Thu Oct 29 10:42:23 2020 Compressing index by removing unneeded attributes\n",
      "Thu Oct 29 10:42:23 2020 Building and compiling search function\n",
      "Thu Oct 29 10:42:26 2020 Building and compiling search function\n",
      "Pickle of ParametricUMAP model saved to D:/ICG/Experiments/%s/test/embeddermodel\\model.pkl\n"
     ]
    }
   ],
   "source": [
    "embedder_model.save(\"%s/embeddermodel\"%path)"
   ]
  },
  {
   "cell_type": "code",
   "execution_count": null,
   "metadata": {},
   "outputs": [],
   "source": []
  },
  {
   "cell_type": "code",
   "execution_count": 16,
   "metadata": {},
   "outputs": [],
   "source": [
    "embedding_encoder = embedder_model.encoder\n",
    "embedding_encoder = tf.keras.Model(embedding_encoder.inputs, embedding_encoder.outputs, name=\"embedder\") # rename the model; name is later needed\n",
    "embedding_encoder.trainable = False\n",
    "\n",
    "flat = nn.Flatten()(classifier_model.get_layer(\"classifier\").output) # if conv layer is used as latent layer, we need to flatten the latent space...\n",
    "embedder_out = embedding_encoder(flat)\n",
    "#embedder_out = embedding_encoder(self.classifier_model.get_layer(self.layer_key).output)\n",
    "classifier_embedder_model = tf.keras.Model(classifier_model.input, [classifier_model.output, embedder_out])\n",
    "\n",
    "classifier_embedder_model.compile(\n",
    "    optimizer=tf.keras.optimizers.Adam(),\n",
    "    loss={\"classifier\": tf.keras.losses.SparseCategoricalCrossentropy(from_logits=True), \"embedder\": tf.keras.losses.MeanSquaredError()},\n",
    "    loss_weights={\"classifier\": 1, \"embedder\": 1},\n",
    "    metrics={\"classifier\":['accuracy']}\n",
    ")"
   ]
  },
  {
   "cell_type": "code",
   "execution_count": 17,
   "metadata": {},
   "outputs": [],
   "source": [
    "projected_train = embedder_model.encoder(logits_train)"
   ]
  },
  {
   "cell_type": "code",
   "execution_count": 18,
   "metadata": {},
   "outputs": [],
   "source": [
    "contraction_factors = {\"all\": (1.0/1.2, 1.0/4.0)}\n",
    "\n",
    "labels_train = y_train\n",
    "shifted_train = projected_train.numpy()\n",
    "distinct_labels = list(set(labels_train))\n",
    "\n",
    "for k in contraction_factors:\n",
    "    if k == \"all\":\n",
    "        contraction_factor = contraction_factors[k]\n",
    "        for i in range(len(distinct_labels)):\n",
    "            l = distinct_labels[i]\n",
    "            shifted_train[labels_train == l] = (contraction_factor[0] * shifted_train[(labels_train == l)]) + contraction_factor[1] * shifted_train[(labels_train == l)].mean(axis=0)\n",
    "    else:\n",
    "        shifted_train[labels_train == k] = (contraction_factor[0] * shifted_train[(labels_train == k)]) + contraction_factor[1] * shifted_train[(labels_train == k)].mean(axis=0)"
   ]
  },
  {
   "cell_type": "code",
   "execution_count": 19,
   "metadata": {
    "scrolled": true
   },
   "outputs": [
    {
     "name": "stdout",
     "output_type": "stream",
     "text": [
      "Train on 50000 samples\n",
      "Epoch 1/4\n",
      "50000/50000 [==============================] - 8s 153us/sample - loss: 1.2426 - classifier_loss: 0.7907 - embedder_loss: 0.4518 - classifier_accuracy: 0.7253\n",
      "Epoch 2/4\n",
      "50000/50000 [==============================] - 7s 137us/sample - loss: 1.1770 - classifier_loss: 0.7623 - embedder_loss: 0.4152 - classifier_accuracy: 0.7363\n",
      "Epoch 3/4\n",
      "50000/50000 [==============================] - 7s 139us/sample - loss: 1.1085 - classifier_loss: 0.7249 - embedder_loss: 0.3834 - classifier_accuracy: 0.7456\n",
      "Epoch 4/4\n",
      "50000/50000 [==============================] - 7s 139us/sample - loss: 1.0883 - classifier_loss: 0.6997 - embedder_loss: 0.3887 - classifier_accuracy: 0.7544\n"
     ]
    }
   ],
   "source": [
    "history = classifier_embedder_model.fit(\n",
    "    x=X_train,\n",
    "    y={\"classifier\": y_train, \"embedder\": shifted_train},\n",
    "    batch_size=64,\n",
    "    epochs=4,\n",
    "    shuffle=True,\n",
    "    verbose=1\n",
    ")\n",
    "\n",
    "classifier_embedder_model.save(\"%s/classifiermodel-weights-after-embedding.h5\"%path)"
   ]
  },
  {
   "cell_type": "code",
   "execution_count": 20,
   "metadata": {},
   "outputs": [
    {
     "data": {
      "text/plain": [
       "{'loss': [1.242590708732605,\n",
       "  1.1770126445007325,\n",
       "  1.1085271305084228,\n",
       "  1.0882534571838378],\n",
       " 'classifier_loss': [0.7907495, 0.76225173, 0.7248937, 0.69971544],\n",
       " 'embedder_loss': [0.4518156, 0.41520947, 0.38342008, 0.38868737],\n",
       " 'classifier_accuracy': [0.72526, 0.73628, 0.74558, 0.75438]}"
      ]
     },
     "execution_count": 20,
     "metadata": {},
     "output_type": "execute_result"
    }
   ],
   "source": [
    "history.history"
   ]
  },
  {
   "cell_type": "code",
   "execution_count": 21,
   "metadata": {},
   "outputs": [],
   "source": [
    "loss = [1.8351757162475586,\n",
    "  1.2199492572021484,\n",
    "  1.0626703799819945,\n",
    "  0.9609999384307861,\n",
    "  0.8817546060943604,\n",
    "  0.7907495, 0.76225173, 0.7248937, 0.69971544\n",
    "]"
   ]
  },
  {
   "cell_type": "code",
   "execution_count": 22,
   "metadata": {},
   "outputs": [
    {
     "data": {
      "text/plain": [
       "[<matplotlib.lines.Line2D at 0x1c5b3c6ad48>]"
      ]
     },
     "execution_count": 22,
     "metadata": {},
     "output_type": "execute_result"
    },
    {
     "data": {
      "image/png": "[encoded data removed]",
      "text/plain": [
       "<Figure size 432x288 with 1 Axes>"
      ]
     },
     "metadata": {
      "needs_background": "light"
     },
     "output_type": "display_data"
    }
   ],
   "source": [
    "import matplotlib.pyplot as plt\n",
    "plt.plot(loss)"
   ]
  },
  {
   "cell_type": "code",
   "execution_count": null,
   "metadata": {},
   "outputs": [],
   "source": []
  },
  {
   "cell_type": "code",
   "execution_count": null,
   "metadata": {},
   "outputs": [],
   "source": [
    "from fit_intervention import Latent_Interventions\n",
    "import fit_intervention"
   ]
  },
  {
   "cell_type": "code",
   "execution_count": 23,
   "metadata": {},
   "outputs": [],
   "source": [
    "# could also load this from a json file\n",
    "meta_data = {}\n",
    "meta_data[\"dataset\"] = \"cifar10\" #cifar10\n",
    "meta_data[\"model_name\"] = \"cifar10\" #cifar10\n",
    "\n",
    "# classifier config\n",
    "meta_data[\"epochs\"] = 5#10\n",
    "meta_data[\"post_epochs\"] = 4\n",
    "meta_data[\"optim\"] = \"Adam\"\n",
    "meta_data[\"optim_config\"] = tf.keras.optimizers.Adam().get_config()\n",
    "meta_data[\"batch_size\"] = 64#*8\n",
    "\n",
    "# intervention config\n",
    "meta_data[\"layer_key\"] = 'classifier' # which latent layer output should be used for embedding\n",
    "meta_data[\"contraction_factors\"] = {\"all\": (1.0/1.2, 1.0/4.0)} # how much should the class points in the embedding be shifted to their center of mass\n",
    "meta_data[\"shift_factors\"] = {} # how much should the class points be shifted in a certain direction\n",
    "\n",
    "# embedder config\n",
    "meta_data[\"embedding_approach\"] = \"umap\" # one of: [\"umap\", \"tsne\"]\n",
    "meta_data[\"embedding_optim\"] = \"Adam\"\n",
    "meta_data[\"embedding_optim_config\"] = tf.keras.optimizers.Adam().get_config()\n",
    "meta_data[\"embedding_epochs\"] = 2#10 #1 for umap #10 for tsne\n",
    "meta_data[\"embedding_batch_size\"] = 500\n",
    "meta_data[\"embedding_subset\"] = 12 # subset that should be selected for training the embedding\n",
    "meta_data[\"embedding_weight\"] = 0.5 # how much influence should the embedding loss have on training the classifier\n",
    "# meta_data[\"embedding_conf\"] = {'layer_dims': [300,100], 'alpha': 1.0, 'preplexities': 100, 'do_pretrain': True, 'beta_batch_size':1000} #500} # embedding approach speciffic configuration\n",
    "meta_data[\"embedding_conf\"] = {} # for unet we dont need any special config for now\n",
    "\n",
    "\n",
    "meta_data[\"experiment_number\"] = 0\n",
    "# path = pathlib.Path().absolute()\n",
    "# path = \"D:/ICG/Experiments/%s/Experiment-umap-embepochs/Experiment-embepoch\"%meta_data[\"dataset\"]\n",
    "meta_data[\"base_path\"] = path"
   ]
  },
  {
   "cell_type": "code",
   "execution_count": 24,
   "metadata": {
    "scrolled": true
   },
   "outputs": [
    {
     "name": "stdout",
     "output_type": "stream",
     "text": [
      "--Warning! Experiment path already exists. By calling further methods, the current files will be overwritten.--\n",
      "saved file to D:/ICG/Experiments/%s/test/meta_data.json\n",
      "--fitting classifier basemodel--\n",
      "Train on 50000 samples\n",
      "Epoch 1/5\n",
      "50000/50000 [==============================] - 6s 130us/sample - loss: 1.7981 - accuracy: 0.3848\n",
      "Epoch 2/5\n",
      "50000/50000 [==============================] - 6s 123us/sample - loss: 1.2703 - accuracy: 0.5488\n",
      "Epoch 3/5\n",
      "50000/50000 [==============================] - 6s 122us/sample - loss: 1.1010 - accuracy: 0.6131\n",
      "Epoch 4/5\n",
      "50000/50000 [==============================] - 6s 122us/sample - loss: 0.9843 - accuracy: 0.6552\n",
      "Epoch 5/5\n",
      "50000/50000 [==============================] - 6s 121us/sample - loss: 0.8999 - accuracy: 0.6874\n",
      "saved file to D:/ICG/Experiments/%s/test/classifiermodel-history-before.json\n",
      "--fitting embedder model--\n",
      "ParametricUMAP(batch_size=500, loss_report_frequency=1, n_training_epochs=2,\n",
      "               optimizer=<tensorflow.python.keras.optimizer_v2.adam.Adam object at 0x000001C5B30221C8>)\n",
      "Construct fuzzy simplicial set\n",
      "Thu Oct 29 10:46:06 2020 Finding Nearest Neighbors\n",
      "Thu Oct 29 10:46:06 2020 Building RP forest with 8 trees\n",
      "Thu Oct 29 10:46:06 2020 NN descent for 12 iterations\n",
      "\t 1  /  12\n",
      "\t 2  /  12\n",
      "\t 3  /  12\n",
      "\tStopping threshold met -- exiting after 3 iterations\n",
      "Thu Oct 29 10:46:07 2020 Finished Nearest Neighbor Search\n",
      "Thu Oct 29 10:46:07 2020 Construct embedding\n"
     ]
    },
    {
     "name": "stderr",
     "output_type": "stream",
     "text": [
      "Embeddings/pumap\\umap\\parametric_umap.py:271: UserWarning: Data should be scaled to the range 0-1 for cross-entropy reconstruction loss.\n",
      "  \"Data should be scaled to the range 0-1 for cross-entropy reconstruction loss.\"\n"
     ]
    },
    {
     "name": "stdout",
     "output_type": "stream",
     "text": [
      "WARNING:tensorflow:AutoGraph could not transform <function umap_loss.<locals>.loss at 0x000001C584F28AF8> and will run it as-is.\n",
      "Please report this to the TensorFlow team. When filing the bug, set the verbosity to 10 (on Linux, `export AUTOGRAPH_VERBOSITY=10`) and attach the full output.\n",
      "Cause: Cell is empty\n",
      "WARNING: AutoGraph could not transform <function umap_loss.<locals>.loss at 0x000001C584F28AF8> and will run it as-is.\n",
      "Please report this to the TensorFlow team. When filing the bug, set the verbosity to 10 (on Linux, `export AUTOGRAPH_VERBOSITY=10`) and attach the full output.\n",
      "Cause: Cell is empty\n",
      "Train for 1080 steps\n",
      "Epoch 1/2\n",
      "1080/1080 [==============================] - 9s 9ms/step - loss: 0.2229\n",
      "Epoch 2/2\n",
      "1080/1080 [==============================] - 8s 7ms/step - loss: 0.2074\n",
      "4167/4167 [==============================] - 0s 34us/sample\n",
      "Thu Oct 29 10:46:24 2020 Finished embedding\n",
      "D:/ICG/Experiments/%s/test/embeddermodel\\encoder_model.h5\n",
      "Keras encoder model saved to D:/ICG/Experiments/%s/test/embeddermodel\\encoder_model.h5\n",
      "Keras full model saved to D:/ICG/Experiments/%s/test/embeddermodel\\parametric_model.h5\n",
      "Thu Oct 29 10:46:24 2020 Worst tree score: 0.85313175\n",
      "Thu Oct 29 10:46:24 2020 Mean tree score: 0.86369090\n",
      "Thu Oct 29 10:46:24 2020 Best tree score: 0.87784977\n",
      "Thu Oct 29 10:46:24 2020 Forward diversification reduced edges from 62505 to 23879\n",
      "Thu Oct 29 10:46:24 2020 Reverse diversification reduced edges from 23879 to 23879\n",
      "Thu Oct 29 10:46:24 2020 Degree pruning reduced edges from 24928 to 24928\n",
      "Thu Oct 29 10:46:24 2020 Resorting data and graph based on tree order\n",
      "Thu Oct 29 10:46:24 2020 Compressing index by removing unneeded attributes\n",
      "Thu Oct 29 10:46:24 2020 Building and compiling search function\n",
      "Thu Oct 29 10:46:26 2020 Building and compiling search function\n",
      "Pickle of ParametricUMAP model saved to D:/ICG/Experiments/%s/test/embeddermodel\\model.pkl\n",
      "--fitting classifier with interventions--\n",
      "Train on 50000 samples\n",
      "Epoch 1/4\n",
      "49920/50000 [============================>.] - ETA: 0s - loss: 1.3587 - classifier_loss: 0.8303 - embedder_loss: 0.5283 - classifier_accuracy: 0.7122\n",
      "Epoch 00001: saving model to D:/ICG/Experiments/%s/test/classifiermodel-weights-after-embedding-epoch01.hdf5\n",
      "50000/50000 [==============================] - 8s 158us/sample - loss: 1.3584 - classifier_loss: 0.8303 - embedder_loss: 0.5283 - classifier_accuracy: 0.7124\n",
      "Epoch 2/4\n",
      "49920/50000 [============================>.] - ETA: 0s - loss: 1.2542 - classifier_loss: 0.7853 - embedder_loss: 0.4689 - classifier_accuracy: 0.7256\n",
      "Epoch 00002: saving model to D:/ICG/Experiments/%s/test/classifiermodel-weights-after-embedding-epoch02.hdf5\n",
      "50000/50000 [==============================] - 7s 135us/sample - loss: 1.2543 - classifier_loss: 0.7854 - embedder_loss: 0.4687 - classifier_accuracy: 0.7255\n",
      "Epoch 3/4\n",
      "49728/50000 [============================>.] - ETA: 0s - loss: 1.2343 - classifier_loss: 0.7607 - embedder_loss: 0.4737 - classifier_accuracy: 0.7342\n",
      "Epoch 00003: saving model to D:/ICG/Experiments/%s/test/classifiermodel-weights-after-embedding-epoch03.hdf5\n",
      "50000/50000 [==============================] - 7s 137us/sample - loss: 1.2338 - classifier_loss: 0.7603 - embedder_loss: 0.4732 - classifier_accuracy: 0.7344\n",
      "Epoch 4/4\n",
      "49856/50000 [============================>.] - ETA: 0s - loss: 1.1658 - classifier_loss: 0.7212 - embedder_loss: 0.4446 - classifier_accuracy: 0.7456\n",
      "Epoch 00004: saving model to D:/ICG/Experiments/%s/test/classifiermodel-weights-after-embedding-epoch04.hdf5\n",
      "50000/50000 [==============================] - 7s 137us/sample - loss: 1.1653 - classifier_loss: 0.7206 - embedder_loss: 0.4446 - classifier_accuracy: 0.7457\n",
      "saved file to D:/ICG/Experiments/%s/test/classifiermodel-history-after-embedding.json\n",
      "Train on 50000 samples\n",
      "Epoch 1/4\n",
      "49984/50000 [============================>.] - ETA: 0s - loss: 0.8509 - accuracy: 0.7047\n",
      "Epoch 00001: saving model to D:/ICG/Experiments/%s/test/classifiermodel-weights-after-baseline-epoch01.hdf5\n",
      "50000/50000 [==============================] - 7s 131us/sample - loss: 0.8510 - accuracy: 0.7047\n",
      "Epoch 2/4\n",
      "49920/50000 [============================>.] - ETA: 0s - loss: 0.7904 - accuracy: 0.7231\n",
      "Epoch 00002: saving model to D:/ICG/Experiments/%s/test/classifiermodel-weights-after-baseline-epoch02.hdf5\n",
      "50000/50000 [==============================] - 6s 124us/sample - loss: 0.7907 - accuracy: 0.7229\n",
      "Epoch 3/4\n",
      "49856/50000 [============================>.] - ETA: 0s - loss: 0.7584 - accuracy: 0.7353\n",
      "Epoch 00003: saving model to D:/ICG/Experiments/%s/test/classifiermodel-weights-after-baseline-epoch03.hdf5\n",
      "50000/50000 [==============================] - 6s 124us/sample - loss: 0.7578 - accuracy: 0.7355\n",
      "Epoch 4/4\n",
      "49792/50000 [============================>.] - ETA: 0s - loss: 0.7092 - accuracy: 0.7537\n",
      "Epoch 00004: saving model to D:/ICG/Experiments/%s/test/classifiermodel-weights-after-baseline-epoch04.hdf5\n",
      "50000/50000 [==============================] - 6s 122us/sample - loss: 0.7092 - accuracy: 0.7537\n",
      "saved file to D:/ICG/Experiments/%s/test/classifiermodel-history-after-baseline.json\n"
     ]
    }
   ],
   "source": [
    "pli = Latent_Interventions(meta_data, verbose=1)\n",
    "pli()"
   ]
  },
  {
   "cell_type": "code",
   "execution_count": null,
   "metadata": {},
   "outputs": [],
   "source": []
  },
  {
   "cell_type": "code",
   "execution_count": null,
   "metadata": {},
   "outputs": [],
   "source": []
  },
  {
   "cell_type": "code",
   "execution_count": 36,
   "metadata": {},
   "outputs": [
    {
     "data": {
      "text/plain": [
       "['D:/ICG/Experiments/%s/test/']"
      ]
     },
     "execution_count": 36,
     "metadata": {},
     "output_type": "execute_result"
    }
   ],
   "source": [
    "exp_path = path+\"/\"\n",
    "from glob import glob\n",
    "import json\n",
    "experiment_paths = glob(exp_path)\n",
    "experiment_paths"
   ]
  },
  {
   "cell_type": "code",
   "execution_count": 39,
   "metadata": {},
   "outputs": [
    {
     "name": "stdout",
     "output_type": "stream",
     "text": [
      "--Warning! Experiment path already exists. By calling further methods, the current files will be overwritten.--\n",
      "Thu Oct 29 10:51:50 2020 Building and compiling search function\n",
      "Pickle of ParametricUMAP model loaded from D:/ICG/Experiments/%s/test/embeddermodel\\model.pkl\n",
      "WARNING:tensorflow:No training configuration found in save file: the model was *not* compiled. Compile it manually.\n",
      "Keras encoder model loaded from D:/ICG/Experiments/%s/test/embeddermodel\\encoder_model.h5\n",
      "WARNING:tensorflow:AutoGraph could not transform <function umap_loss.<locals>.loss at 0x000001C5BB6FB558> and will run it as-is.\n",
      "Please report this to the TensorFlow team. When filing the bug, set the verbosity to 10 (on Linux, `export AUTOGRAPH_VERBOSITY=10`) and attach the full output.\n",
      "Cause: Cell is empty\n",
      "WARNING: AutoGraph could not transform <function umap_loss.<locals>.loss at 0x000001C5BB6FB558> and will run it as-is.\n",
      "Please report this to the TensorFlow team. When filing the bug, set the verbosity to 10 (on Linux, `export AUTOGRAPH_VERBOSITY=10`) and attach the full output.\n",
      "Cause: Cell is empty\n",
      "Keras full model loaded from D:/ICG/Experiments/%s/test/embeddermodel\\parametric_model.h5\n"
     ]
    },
    {
     "data": {
      "image/png": "[encoded data removed]",
      "text/plain": [
       "<Figure size 432x288 with 1 Axes>"
      ]
     },
     "metadata": {
      "needs_background": "light"
     },
     "output_type": "display_data"
    }
   ],
   "source": [
    "fit_intervention.plot_histories(experiment_paths, metric_key_base=\"loss\", metric_key_embed=\"classifier_loss\", plot_baseline=True)"
   ]
  },
  {
   "cell_type": "code",
   "execution_count": null,
   "metadata": {},
   "outputs": [],
   "source": []
  },
  {
   "cell_type": "code",
   "execution_count": null,
   "metadata": {},
   "outputs": [],
   "source": []
  }
 ],
 "metadata": {
  "kernelspec": {
   "display_name": "Python 3",
   "language": "python",
   "name": "python3"
  },
  "language_info": {
   "codemirror_mode": {
    "name": "ipython",
    "version": 3
   },
   "file_extension": ".py",
   "mimetype": "text/x-python",
   "name": "python",
   "nbconvert_exporter": "python",
   "pygments_lexer": "ipython3",
   "version": "3.7.9"
  }
 },
 "nbformat": 4,
 "nbformat_minor": 4
}
